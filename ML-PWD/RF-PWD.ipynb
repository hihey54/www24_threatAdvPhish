{
 "cells": [
  {
   "cell_type": "code",
   "execution_count": 63,
   "id": "fdc9ef7e",
   "metadata": {},
   "outputs": [],
   "source": [
    "from IPython.core.interactiveshell import InteractiveShell\n",
    "InteractiveShell.ast_node_interactivity='all'\n",
    "import os\n",
    "import json\n",
    "import pandas as pd\n",
    "from sklearn.model_selection import train_test_split\n",
    "from sklearn import metrics,preprocessing\n",
    "from sklearn.ensemble import RandomForestClassifier\n",
    "from sklearn.feature_selection import RFE\n",
    "from sklearn.linear_model import LogisticRegression\n",
    "from sklearn.metrics import confusion_matrix\n",
    "from util import *\n"
   ]
  },
  {
   "cell_type": "markdown",
   "id": "9b9bd887",
   "metadata": {},
   "source": [
    "# refer to Sec 3 in our WWW paper, Custom ML-PWD"
   ]
  },
  {
   "cell_type": "code",
   "execution_count": 33,
   "id": "0897b703",
   "metadata": {},
   "outputs": [
    {
     "data": {
      "text/plain": [
       "MinMaxScaler()"
      ]
     },
     "execution_count": 33,
     "metadata": {},
     "output_type": "execute_result"
    },
    {
     "name": "stdout",
     "output_type": "stream",
     "text": [
      "tpr is 0.977533, fpr is 0.042561\n"
     ]
    }
   ],
   "source": [
    "data_fe=read_json('full_features.json')\n",
    "train,test=train_test_split(data_fe,shuffle=True,test_size=0.2)\n",
    "train_x=train.iloc[:,0:57]\n",
    "train_y=train.iloc[:,57]\n",
    "test_x=test.iloc[:,0:57]\n",
    "test_y=test.iloc[:,57]\n",
    " \n",
    "train_x_html=train.iloc[:,27:49]\n",
    "test_x_html=test.iloc[:,27:49]\n",
    "scaler_html=preprocessing.MinMaxScaler()\n",
    "scaler_html.fit(train_x_html)\n",
    "train_x_html=scaler_html.transform(train_x_html)\n",
    "test_x_html=scaler_html.transform(test_x_html)\n",
    "\n",
    "\n",
    "train_y_html=train_y\n",
    "test_y_html=test_y \n",
    "model_rf_html=RandomForestClassifier(criterion='gini',max_depth=45,min_samples_split=3,n_estimators=100)\n",
    "\n",
    "rf_html,rf_html_fpr,rf_html_tpr,rf_html_selector=rfe_get_score(model_rf_html,16,train_x_html,train_y_html,test_x_html,test_y_html)\n",
    "print('tpr is %f, fpr is %f'%(rf_html_tpr,rf_html_fpr))\n",
    "\n",
    "    "
   ]
  },
  {
   "cell_type": "markdown",
   "id": "1f3e056e",
   "metadata": {},
   "source": [
    "# test adversarial samples"
   ]
  },
  {
   "cell_type": "code",
   "execution_count": 60,
   "id": "0ab5b736",
   "metadata": {},
   "outputs": [],
   "source": [
    "subphish=read_json('./addtypos_use.json')\n",
    "sub_test_x=subphish.iloc[:,0:57]\n",
    "sub_test_y_com=subphish.iloc[:,57]\n",
    "sub_test_x_ht=subphish.iloc[:,27:49]\n",
    "sub_test_y_html=sub_test_y_com \n",
    "sub_test_x_html=scaler_html.transform(sub_test_x_ht)"
   ]
  },
  {
   "cell_type": "code",
   "execution_count": 62,
   "id": "384b3fda",
   "metadata": {},
   "outputs": [
    {
     "name": "stdout",
     "output_type": "stream",
     "text": [
      "tpr is 0.0\n"
     ]
    }
   ],
   "source": [
    "rf_recall_html=get_tpr(rf_html,sub_test_x_html,sub_test_y_html,rf_html_selector)\n",
    "\n",
    "print('tpr is',rf_recall_html)"
   ]
  }
 ],
 "metadata": {
  "kernelspec": {
   "display_name": "Python 3 (ipykernel)",
   "language": "python",
   "name": "python3"
  },
  "language_info": {
   "codemirror_mode": {
    "name": "ipython",
    "version": 3
   },
   "file_extension": ".py",
   "mimetype": "text/x-python",
   "name": "python",
   "nbconvert_exporter": "python",
   "pygments_lexer": "ipython3",
   "version": "3.9.12"
  }
 },
 "nbformat": 4,
 "nbformat_minor": 5
}
