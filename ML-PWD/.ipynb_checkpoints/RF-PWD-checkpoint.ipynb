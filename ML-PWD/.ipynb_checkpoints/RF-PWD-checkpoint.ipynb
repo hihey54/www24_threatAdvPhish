{
 "cells": [
  {
   "cell_type": "code",
   "execution_count": 17,
   "id": "fdc9ef7e",
   "metadata": {},
   "outputs": [],
   "source": [
    "from IPython.core.interactiveshell import InteractiveShell\n",
    "InteractiveShell.ast_node_interactivity='all'\n",
    "import os\n",
    "import json\n",
    "import pandas as pd\n",
    "from sklearn.model_selection import train_test_split\n",
    "from sklearn import metrics,preprocessing\n",
    "from sklearn.ensemble import RandomForestClassifier\n",
    "from sklearn.feature_selection import RFE\n",
    "from sklearn.linear_model import LogisticRegression\n",
    "from sklearn.metrics import confusion_matrix\n",
    "from util import *\n",
    "from sklearn.metrics import classification_report, recall_score,ConfusionMatrixDisplay,plot_confusion_matrix\n",
    "#from scipy.stats import pearsonr\n",
    "from tensorflow.keras.models import Sequential\n",
    "from tensorflow.keras.layers import Dense,Conv1D,Dropout,MaxPooling1D,Flatten\n",
    "from tensorflow.keras.optimizers import Adam\n",
    "import tensorflow as tf"
   ]
  },
  {
   "cell_type": "markdown",
   "id": "9b9bd887",
   "metadata": {},
   "source": [
    "# refer to Sec 3 in our WWW paper, Custom ML-PWD"
   ]
  },
  {
   "cell_type": "code",
   "execution_count": 2,
   "id": "0897b703",
   "metadata": {},
   "outputs": [
    {
     "data": {
      "text/plain": [
       "MinMaxScaler()"
      ]
     },
     "execution_count": 2,
     "metadata": {},
     "output_type": "execute_result"
    },
    {
     "name": "stdout",
     "output_type": "stream",
     "text": [
      "tpr is 0.983397, fpr is 0.048299\n"
     ]
    }
   ],
   "source": [
    "data_fe=read_json('full_features.json')\n",
    "train,test=train_test_split(data_fe,shuffle=True,test_size=0.2)\n",
    "train_x=train.iloc[:,0:57]\n",
    "train_y=train.iloc[:,57]\n",
    "test_x=test.iloc[:,0:57]\n",
    "test_y=test.iloc[:,57]\n",
    " \n",
    "train_x_html=train.iloc[:,27:49]\n",
    "test_x_html=test.iloc[:,27:49]\n",
    "scaler_html=preprocessing.MinMaxScaler()\n",
    "scaler_html.fit(train_x_html)\n",
    "train_x_html=scaler_html.transform(train_x_html)\n",
    "test_x_html=scaler_html.transform(test_x_html)\n",
    "\n",
    "\n",
    "train_y_html=train_y\n",
    "test_y_html=test_y \n",
    "model_rf_html=RandomForestClassifier(criterion='gini',max_depth=45,min_samples_split=3,n_estimators=100)\n",
    "\n",
    "rf_html,rf_html_fpr,rf_html_tpr,rf_html_selector=rfe_get_score(model_rf_html,16,train_x_html,train_y_html,test_x_html,test_y_html)\n",
    "print('tpr is %f, fpr is %f'%(rf_html_tpr,rf_html_fpr))\n",
    "\n",
    "    "
   ]
  },
  {
   "cell_type": "markdown",
   "id": "6e71ec3c",
   "metadata": {},
   "source": [
    "# ML model selection, LR and CNN"
   ]
  },
  {
   "cell_type": "code",
   "execution_count": 4,
   "id": "45b025b0",
   "metadata": {},
   "outputs": [
    {
     "name": "stdout",
     "output_type": "stream",
     "text": [
      "tpr is 0.803605, fpr is 0.117087\n"
     ]
    }
   ],
   "source": [
    "#LR\n",
    "model_lr_2 = LogisticRegression(max_iter=1000,solver='liblinear',penalty='l1') \n",
    "model_lr_html,fpr_html_lr,recall_html_lr,selector_lr_html=rfe_get_score(model_lr_2,15,train_x_html,train_y_html,test_x_html,test_y_html)\n",
    "print('tpr is %f, fpr is %f'%(recall_html_lr,fpr_html_lr))\n"
   ]
  },
  {
   "cell_type": "code",
   "execution_count": 10,
   "id": "017dfb7b",
   "metadata": {},
   "outputs": [],
   "source": [
    "one_hot_train_y=tf.one_hot(indices=train_y.array,depth=2,on_value=1.0,off_value=0.0)\n",
    "one_hot_test_y=tf.one_hot(indices=test_y.array,depth=2,on_value=1.0,off_value=0.0)\n",
    "test_x_re=np.asarray(test_x).reshape(test_x.shape[0],test_x.shape[1],1)\n",
    "train_x_re=np.asarray(train_x).reshape(train_x.shape[0],train_x.shape[1],1)\n",
    "\n",
    "train_html_x_re=np.asarray(train_x_html).reshape(train_x_html.shape[0],train_x_html.shape[1],1)\n",
    "test_html_x_re=np.asarray(test_x_html).reshape(test_x_html.shape[0],test_x_html.shape[1],1)\n"
   ]
  },
  {
   "cell_type": "code",
   "execution_count": null,
   "id": "d492dbb5",
   "metadata": {},
   "outputs": [],
   "source": [
    "# cnn\n",
    "test_x_re_html=np.asarray(test_x_html).reshape(test_x_html.shape[0],test_x_html.shape[1],1)\n",
    "# model_cnn_html=create_model_html()\n",
    "#model_cnn_html.fit(train_html_x_re,one_hot_train_y,batch_size=32,epochs=200, verbose=2)\n",
    "model_cnn_html=tf.keras.models.load_model('model_cnn_htm_1')\n",
    "cnn_recall_html=get_recall_cnn(model_cnn_html,test_x_re_html,test_y_html)\n",
    "cnn_fpr_html=get_base_fpr_cnn(model_cnn_html,test_x_re_html,test_y_html)\n"
   ]
  },
  {
   "cell_type": "markdown",
   "id": "1f3e056e",
   "metadata": {},
   "source": [
    "# test adversarial samples"
   ]
  },
  {
   "cell_type": "code",
   "execution_count": 60,
   "id": "0ab5b736",
   "metadata": {},
   "outputs": [],
   "source": [
    "subphish=read_json('./addtypos_use.json')\n",
    "sub_test_x=subphish.iloc[:,0:57]\n",
    "sub_test_y_com=subphish.iloc[:,57]\n",
    "sub_test_x_ht=subphish.iloc[:,27:49]\n",
    "sub_test_y_html=sub_test_y_com \n",
    "sub_test_x_html=scaler_html.transform(sub_test_x_ht)"
   ]
  },
  {
   "cell_type": "code",
   "execution_count": 62,
   "id": "384b3fda",
   "metadata": {},
   "outputs": [
    {
     "name": "stdout",
     "output_type": "stream",
     "text": [
      "tpr is 0.0\n"
     ]
    }
   ],
   "source": [
    "rf_recall_html=get_tpr(rf_html,sub_test_x_html,sub_test_y_html,rf_html_selector)\n",
    "\n",
    "print('tpr is',rf_recall_html)"
   ]
  }
 ],
 "metadata": {
  "kernelspec": {
   "display_name": "Python 3 (ipykernel)",
   "language": "python",
   "name": "python3"
  },
  "language_info": {
   "codemirror_mode": {
    "name": "ipython",
    "version": 3
   },
   "file_extension": ".py",
   "mimetype": "text/x-python",
   "name": "python",
   "nbconvert_exporter": "python",
   "pygments_lexer": "ipython3",
   "version": "3.9.12"
  }
 },
 "nbformat": 4,
 "nbformat_minor": 5
}
