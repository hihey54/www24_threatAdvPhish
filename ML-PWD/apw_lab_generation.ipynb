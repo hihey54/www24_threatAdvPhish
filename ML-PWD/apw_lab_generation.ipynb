{
 "cells": [
  {
   "cell_type": "code",
   "execution_count": 1,
   "id": "f63b65fe",
   "metadata": {},
   "outputs": [],
   "source": [
    "from IPython.core.interactiveshell import InteractiveShell\n",
    "InteractiveShell.ast_node_interactivity='all'\n",
    "from util import *\n",
    "import os\n",
    "import shutil\n",
    " \n",
    " "
   ]
  },
  {
   "cell_type": "markdown",
   "id": "92069ccc",
   "metadata": {},
   "source": [
    "# generate adversarial samples, typos, refer to fig. 2 (b)"
   ]
  },
  {
   "cell_type": "code",
   "execution_count": 2,
   "id": "e086a2f6",
   "metadata": {},
   "outputs": [
    {
     "name": "stdout",
     "output_type": "stream",
     "text": [
      "out_file is index_addtypos.html\n"
     ]
    }
   ],
   "source": [
    "ht_path='datasets/phishing/P13902/RAW-HTML/'\n",
    "ht_file=os.listdir(ht_path)\n",
    "ht_name=ht_file[0]\n",
    "ori_file=ht_path+ht_name \n",
    "try:\n",
    "    index=ht_name.index('.html')\n",
    "    ht_f=ht_name[:index]\n",
    "    ht=readHtmlFile(ori_file) \n",
    "    out_file=ht_name[:index]+\"_addtypos\"+\".html\"\n",
    "\n",
    "except:\n",
    "    index=ht_name.index('.htm')\n",
    "    ht=readHtmlFile(ori_file)\n",
    "    out_file=ht_name[:index]+\"_addtypos\"+\".htm\"\n",
    "print('out_file is',out_file)\n",
    "    \n",
    "add_typos(ht,out_file)\n"
   ]
  }
 ],
 "metadata": {
  "kernelspec": {
   "display_name": "Python 3 (ipykernel)",
   "language": "python",
   "name": "python3"
  },
  "language_info": {
   "codemirror_mode": {
    "name": "ipython",
    "version": 3
   },
   "file_extension": ".py",
   "mimetype": "text/x-python",
   "name": "python",
   "nbconvert_exporter": "python",
   "pygments_lexer": "ipython3",
   "version": "3.9.12"
  }
 },
 "nbformat": 4,
 "nbformat_minor": 5
}
