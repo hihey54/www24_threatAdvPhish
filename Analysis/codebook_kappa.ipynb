{
 "cells": [
  {
   "cell_type": "code",
   "execution_count": 9,
   "id": "7f1a3923",
   "metadata": {},
   "outputs": [],
   "source": [
    "import pandas as pd\n",
    "import numpy as np"
   ]
  },
  {
   "cell_type": "code",
   "execution_count": 10,
   "id": "a0b6a0a4",
   "metadata": {},
   "outputs": [],
   "source": [
    "code_folder=\"../codebook/\"\n",
    "coder2_file=code_folder+'re_code.xlsx' \n",
    "coder1_file=code_folder+'round2.xlsx'\n",
    "code_file=code_folder+\"coding.xlsx\"\n",
    "\n",
    "coder1_data=pd.read_excel(coder1_file).replace(np.nan, '', regex=True)\n",
    "coder2_data=pd.read_excel(coder2_file).replace(np.nan, '', regex=True)\n",
    "code_data=pd.read_excel(code_file).replace(np.nan, '', regex=True)"
   ]
  },
  {
   "cell_type": "markdown",
   "id": "3e0d0419",
   "metadata": {},
   "source": [
    "# refer to sec 6, codebook"
   ]
  },
  {
   "cell_type": "code",
   "execution_count": 12,
   "id": "054ea92f",
   "metadata": {},
   "outputs": [],
   "source": [
    "def read_xlsx(fname):\n",
    "    global keys\n",
    "\n",
    "    l = []\n",
    "    reader = pd.read_excel(fname, header=None).replace(np.nan, '', regex=True)\n",
    "    for _, row in reader.iterrows():\n",
    "        row = row.values.tolist()          \n",
    "        if not keys: \n",
    "            keys=row            \n",
    "            continue\n",
    "        l.append(dict(zip(keys,row)))    \n",
    "    return l\n",
    "\n",
    "keys = []\n",
    "\n",
    "global keys\n",
    "\n",
    "pri_l = read_xlsx(coder1_file)\n",
    "sec_l = read_xlsx(coder2_file)\n",
    "\n",
    "id_k = keys[0]\n",
    "q_k = keys[1]\n",
    "\n",
    "pri_d = {d[id_k]:d for d in read_xlsx(coder1_file)[1:]}\n",
    "sec_d = {d[id_k]:d for d in read_xlsx(coder2_file)[1:]}\n",
    "num_code_columns=86\n",
    "\n",
    "overlap = {}\n",
    "pri_used = {}\n",
    "sec_used = {}\n",
    "codes = [f\"c{x}\" for x in range (1, num_code_columns+1)]\n",
    "tot_pri = 0\n",
    "tot_sec = 0\n",
    "tot = 0\n",
    "for sk in sec_d: \n",
    " \n",
    "    s = sec_d[sk] \n",
    " \n",
    "    p = pri_d[s[id_k]]      \n",
    "    sec_codes = set(s[c] for c in codes if\n",
    "                    c in s and s[c] != ''\n",
    "#                        and not \"->\" in s[c]\n",
    "    )\n",
    "    pri_codes = set(p[c] for c in codes if\n",
    "                    c in p and p[c] != '' \n",
    "#                        and not \"->\" in p[c]\n",
    "    )\n",
    "    if any(sec_codes) and any(pri_codes):\n",
    "        tot_sec += len(sec_codes)\n",
    "        tot_pri += len(pri_codes)\n",
    "        for c in sec_codes.intersection(pri_codes):\n",
    "            overlap[c] = overlap.get(c,0)+1\n",
    "\n",
    "        for sc in sec_codes:\n",
    "            sec_used[sc] = sec_used.get(sc,0)+1\n",
    "\n",
    "        for pc in pri_codes:\n",
    "            pri_used[pc] = pri_used.get(pc,0)+1\n",
    "\n",
    "pri_used = {k:pri_used[k]/tot_pri for k in pri_used}\n",
    "sec_used = {k:sec_used[k]/tot_sec for k in sec_used}\n",
    "overlap = {k:overlap[k]/max(tot_pri,tot_sec) for k in overlap}\n",
    "for c in pri_used:\n",
    "    if not c in overlap:\n",
    "        overlap[c]=0.0\n",
    "\n",
    "for c in sec_used:\n",
    "    if not c in overlap:\n",
    "        overlap[c]=0.0\n",
    "p_a = sum(overlap.values())\n",
    "\n",
    "p_c = sum(pri_used.get(c,0.0)*sec_used.get(c,0.0) for c in set(pri_used.keys()).union(set(sec_used.keys())))\n",
    "   \n",
    "irr = 1 - (1-p_a)/(1-p_c)\n",
    "# print('irr is',irr)\n",
    "keys = [] #reset global keys back to empty"
   ]
  }
 ],
 "metadata": {
  "kernelspec": {
   "display_name": "Python 3 (ipykernel)",
   "language": "python",
   "name": "python3"
  },
  "language_info": {
   "codemirror_mode": {
    "name": "ipython",
    "version": 3
   },
   "file_extension": ".py",
   "mimetype": "text/x-python",
   "name": "python",
   "nbconvert_exporter": "python",
   "pygments_lexer": "ipython3",
   "version": "3.9.12"
  }
 },
 "nbformat": 4,
 "nbformat_minor": 5
}
