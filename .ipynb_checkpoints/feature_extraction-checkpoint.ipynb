{
 "cells": [
  {
   "cell_type": "code",
   "execution_count": 2,
   "id": "16e709f2",
   "metadata": {},
   "outputs": [],
   "source": [
    "from IPython.core.interactiveshell import InteractiveShell\n",
    "InteractiveShell.ast_node_interactivity='all'\n",
    "from extractor import *\n",
    "# from utils import *\n",
    "import os\n",
    "#import pandas as pd"
   ]
  },
  {
   "cell_type": "code",
   "execution_count": 4,
   "id": "7f6a5325",
   "metadata": {},
   "outputs": [
    {
     "name": "stdout",
     "output_type": "stream",
     "text": [
      "length of the folders 10540\n"
     ]
    }
   ],
   "source": [
    "ph_path=\"../datasets/phishing/\"\n",
    "folders =os.listdir(ph_path)\n",
    "print('length of the folders',len(folders))"
   ]
  },
  {
   "cell_type": "markdown",
   "id": "4d792934",
   "metadata": {},
   "source": [
    "# extract phishing features"
   ]
  },
  {
   "cell_type": "code",
   "execution_count": 5,
   "id": "e94c22c5",
   "metadata": {},
   "outputs": [
    {
     "name": "stdout",
     "output_type": "stream",
     "text": [
      "folders is P10286\n",
      "i success 0\n"
     ]
    }
   ],
   "source": [
    "\n",
    "ph_path=\"../datasets/phishing/\"\n",
    "out_file=\"./phish_feature.json\"\n",
    "folders =os.listdir(ph_path)\n",
    "for i in range(0,1):\n",
    "    print('folders is',folders[i])\n",
    "    file_id=folders[i]\n",
    "    sub_path=os.path.join(ph_path,folders[i])\n",
    "    subfolders=os.listdir(sub_path)\n",
    "    #print('subfolders is',subfolders)\n",
    "    url_file=sub_path+\"/\"+\"URL\"+\"/\"+'URL.txt'\n",
    "    try:\n",
    "        with open(url_file,'r') as f:\n",
    "            ur=f.read()\n",
    "    except:\n",
    "        with open(url_file,encoding=\"latin-1\") as f:\n",
    "            ur=f.read()      \n",
    "    #print('url is',ur)\n",
    "    ht_fo=sub_path+\"/\"+\"RAW-HTML\"+\"/\"\n",
    "    ht_name=os.listdir(ht_fo)[0]\n",
    "    try:\n",
    "        with open(ht_fo+ht_name,'r') as f: \n",
    "            ht=f.read()\n",
    "    except:\n",
    "        with open(ht_fo+ht_name, encoding=\"latin-1\") as f:\n",
    "            ht=f.read()\n",
    "        #print('html success',folders[i])\n",
    "    #print('html is',ht)\n",
    "    #write to json file\n",
    "    extractFeatures_test(file_id,ur,ht,out_file)\n",
    "    print('i success',i)\n",
    "    \n",
    "        "
   ]
  }
 ],
 "metadata": {
  "kernelspec": {
   "display_name": "Python 3 (ipykernel)",
   "language": "python",
   "name": "python3"
  },
  "language_info": {
   "codemirror_mode": {
    "name": "ipython",
    "version": 3
   },
   "file_extension": ".py",
   "mimetype": "text/x-python",
   "name": "python",
   "nbconvert_exporter": "python",
   "pygments_lexer": "ipython3",
   "version": "3.9.12"
  }
 },
 "nbformat": 4,
 "nbformat_minor": 5
}
